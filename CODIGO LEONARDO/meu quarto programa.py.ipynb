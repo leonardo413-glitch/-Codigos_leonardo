{
 "cells": [
  {
   "cell_type": "markdown",
   "id": "4c919d14",
   "metadata": {},
   "source": [
    "### CLT "
   ]
  },
  {
   "cell_type": "code",
   "execution_count": null,
   "id": "991e8cfb",
   "metadata": {},
   "outputs": [],
   "source": [
    "salario = 1200\n",
    "gasolina = 200\n",
    "internet = 200\n",
    "alimentos = 1500\n",
    "agua = 100\n",
    "luz = 300 \n",
    "condominio = 570\n",
    "\n",
    "quanto_sobra = 0\n"
   ]
  }
 ],
 "metadata": {
  "language_info": {
   "name": "python"
  }
 },
 "nbformat": 4,
 "nbformat_minor": 5
}
