{
 "cells": [
  {
   "cell_type": "markdown",
   "id": "4f7a1d42",
   "metadata": {},
   "source": [
    "### Jogo de advinhação\n",
    "\n",
    "Vamos criar um jogo que advinha o número que o usuário digitou!!\n"
   ]
  },
  {
   "cell_type": "code",
   "execution_count": null,
   "id": "5fa02260",
   "metadata": {},
   "outputs": [
    {
     "name": "stdout",
     "output_type": "stream",
     "text": [
      "Jogo de advinhação!!! Boa Sorte!!\n",
      "------------------------------------\n",
      " O número que você digitou foi 3.5 hahahaha acertei\n"
     ]
    }
   ],
   "source": [
    "print(\"Jogo de advinhação!!! Boa Sorte!!\")\n",
    "print(\"------------------------------------\")\n",
    "## o número deve ser float, pois deve aceitar tanto números inteiros, quanto números quebrados\n"
   ]
  },
  {
   "cell_type": "markdown",
   "id": "56cf80bf",
   "metadata": {},
   "source": [
    "### Meu carro do sonho\n",
    "\n",
    "Vamos pedir para o usuário nos informar o nome do carro e o preço do carro dos sonhos deles."
   ]
  },
  {
   "cell_type": "code",
   "execution_count": null,
   "id": "7d9330a4",
   "metadata": {},
   "outputs": [
    {
     "name": "stdout",
     "output_type": "stream",
     "text": [
      " O carro do sonho da Tamires é : Jeep Compass e o preço é 120000.0\n",
      "Falta 119980.0 para realizar seu sonho!!\n"
     ]
    }
   ],
   "source": [
    "# 1º Primeiro peça ao usuário o nome do carro dos sonhos:\n",
    "nome_carro = input(\"Informe o nome do seu carro do sonho:\")\n",
    "# 2º Peça o preço do carro dos sonhos\"))\n",
    "# 3º Pergunte quanto dinheiro o usuário tem e gua\n",
    "valor_carro = float(input(\"qual o preco do carrorde o valor em uma variável\n",
    "dinheiro_usuario = float(input(\"quanto de dinheiro vc tem?\"))\n",
    "# 4º Calcule quanto falta para o usuário conseguir comprar o carro\n",
    "calculo_usuario = (valor_carro - quantia)\n",
    "# 5º Mostre na tela o nome do carro o preço dele e quanto falta para o usuário realizar o sonho dele.\n",
    "print (f\"o preco do carro e R${valor_carro}, e falta esse valor R${quanto_falta} para realizar o sonho\")"
   ]
  },
  {
   "cell_type": "markdown",
   "id": "d28ba737",
   "metadata": {},
   "source": [
    "### Agenda de Celular\n",
    "\n",
    "Peça ao usuário que informe o nome dele e o número do telefone dele\n",
    "\n",
    "Depois mostre ao usuário print() com uma mensagem o nome dele e o número do telefone"
   ]
  },
  {
   "cell_type": "code",
   "execution_count": null,
   "id": "3037f6bb",
   "metadata": {},
   "outputs": [
    {
     "name": "stdout",
     "output_type": "stream",
     "text": [
      "O seu nome é Yudi e o seu número é (11)4002-8922\n"
     ]
    }
   ],
   "source": [
    "# preciso pedir o nome do usuário\n",
    "\n",
    "#preciso pedir o telefone\n",
    "\n",
    "# mostrar as informações\n",
    "\n",
    "\n"
   ]
  },
  {
   "cell_type": "markdown",
   "id": "3312349f",
   "metadata": {},
   "source": [
    "### Adivinha a idade\n",
    "\n",
    "preciso do ano do nascimento e o ano atual\n",
    "\n",
    "formula = ano_atual - ano_nascimento\n",
    "\n",
    "tipo da variavel int"
   ]
  },
  {
   "cell_type": "code",
   "execution_count": null,
   "id": "4d8cbcc1",
   "metadata": {},
   "outputs": [],
   "source": [
    "ano_nascimento = inrt(input(\"digite seu ano de nascimento\"))\n",
    "ano_atual = int(input(\"digite o ano atual\"))\n",
    "resultado = (ano_atual- ano_nascimento)\n",
    "print(f\"o ano que vocve nasceu foi{ano_nascimento}, e estamos no ano de {ano_atual}, entao sua idade e {resultado}anos.\")"
   ]
  }
 ],
 "metadata": {
  "kernelspec": {
   "display_name": "Python 3",
   "language": "python",
   "name": "python3"
  },
  "language_info": {
   "codemirror_mode": {
    "name": "ipython",
    "version": 3
   },
   "file_extension": ".py",
   "mimetype": "text/x-python",
   "name": "python",
   "nbconvert_exporter": "python",
   "pygments_lexer": "ipython3",
   "version": "3.13.2"
  }
 },
 "nbformat": 4,
 "nbformat_minor": 5
}
