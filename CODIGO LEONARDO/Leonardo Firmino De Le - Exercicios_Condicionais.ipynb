{
 "cells": [
  {
   "cell_type": "markdown",
   "id": "633160a3",
   "metadata": {},
   "source": [
    "### 📝Lista de Exercícios: Condicionais IF/ELSE"
   ]
  },
  {
   "cell_type": "markdown",
   "id": "605d2a7e",
   "metadata": {},
   "source": [
    "Exercício 1 - Maioridade 🔞\n",
    "\n",
    "Crie um programa que pergunta a idade do usuário e diz se ele é maior ou menor de idade."
   ]
  },
  {
   "cell_type": "code",
   "execution_count": 4,
   "id": "93ea230f",
   "metadata": {},
   "outputs": [
    {
     "name": "stdout",
     "output_type": "stream",
     "text": [
      "Maior de idade\n"
     ]
    }
   ],
   "source": [
    "idade = int(input(\"Quantos anos você tem? \"))\n",
    "if idade >= 18:\n",
    "    print('Maior de idade')\n",
    "\n",
    "elif idade <= 18:  \n",
    "    print('menor de idade')\n",
    "\n",
    "# Complete o código aqui\n",
    "\n",
    "\n"
   ]
  },
  {
   "cell_type": "markdown",
   "id": "6e9528f5",
   "metadata": {},
   "source": [
    "Exercício 2 - Aprovação na Prova 🧠\n",
    "\n",
    "Faça um programa que pergunte a nota de um aluno (0 a 10) e diz se ele foi aprovado(nota >= 5) ou reprovado (nota <5)."
   ]
  },
  {
   "cell_type": "code",
   "execution_count": 9,
   "id": "4a9f8f8b",
   "metadata": {},
   "outputs": [
    {
     "name": "stdout",
     "output_type": "stream",
     "text": [
      "aprovado\n"
     ]
    }
   ],
   "source": [
    "nota = float(input(\"Informe a sua nota de (0 a 10)\"))\n",
    "if nota >= 5:\n",
    "   print ('aprovado')\n",
    "\n",
    "elif nota <= 5:\n",
    "   print ('reprovado')\n",
    "\n",
    "\n",
    "# Complete o código aqui"
   ]
  },
  {
   "cell_type": "markdown",
   "id": "9f8e9b92",
   "metadata": {},
   "source": [
    "Exercicio 3 - CNH 🚘🚙\n",
    "\n",
    " 1º - Peça ao usuário que digite a idade dele.\n",
    "\n",
    " 2º - Peça pra ele dizer se foi aprovado ou reprovado no curso de cnh.\n",
    "\n",
    " 3º - Use if e else para verificar se ele tem 18 anos ou mais e se foi aprovado.\n",
    "\n",
    " 4º - Se as condições do passo 3 estiverem certas, print(\"pode dirigir\").\n",
    " \n",
    " 5º - Se não print(\"vai andar a pé\")"
   ]
  },
  {
   "cell_type": "code",
   "execution_count": 14,
   "id": "bee9f043",
   "metadata": {},
   "outputs": [
    {
     "name": "stdout",
     "output_type": "stream",
     "text": [
      "18\n",
      "vai andar apé ou de hotwheels\n"
     ]
    }
   ],
   "source": [
    "### Seu código aqui\n",
    "idade = int(input(\"qual sua idade? :\"))\n",
    "print(idade)\n",
    "nota = float(input(\"Informe a sua nota da prova da auto escola (0 a 10)\"))\n",
    "\n",
    "if nota >= 5 and idade >= 18:\n",
    "   print (\"pode dirigir\")\n",
    "\n",
    "else:\n",
    "   print(\"vai andar apé ou de hotwheels\")\n",
    "   "
   ]
  },
  {
   "cell_type": "markdown",
   "id": "e9c60d12",
   "metadata": {},
   "source": [
    "Exercício 4 - Calculadora de Desconto. 💵 🤑\n",
    "\n",
    "Uma loja dá 10% de desconto para compras acima de R$ 100,00. Faça um programa que:\n",
    "\n",
    "1º - Pergunta o valor da compra.\n",
    "\n",
    "2º - Calcula o valor final com desconto (se aplicável).\n",
    "\n",
    "3º - Mostra o valor a pagar."
   ]
  },
  {
   "cell_type": "code",
   "execution_count": 15,
   "id": "5edc8855",
   "metadata": {},
   "outputs": [
    {
     "name": "stdout",
     "output_type": "stream",
     "text": [
      "voce teve 10% de desconto, o valor da compra ficou 699999.3\n"
     ]
    }
   ],
   "source": [
    "### Seu código aqui\n",
    "valor_comlpra =float (input(\"qual o valor de sua compra?\"))\n",
    "desconto = valor_comlpra * 0.10\n",
    "valor_final = valor_comlpra - desconto\n",
    "\n",
    "if valor_comlpra >=100:\n",
    "    print (f\"voce teve 10% de desconto, o valor da compra ficou {valor_final}\")\n",
    "else:\n",
    "    print (f\"nao tem desconto, o valor ficou {valor_comlpra}\")\n",
    " \n"
   ]
  },
  {
   "cell_type": "markdown",
   "id": "ec96b43c",
   "metadata": {},
   "source": [
    "Exercício 5 - Classificação de Notas 🧑‍🎓\n",
    "\n",
    "Pergunte a nota de um aluno e dependendo da nota que ele informar, o classifique de acordo com as regras abaixo:\n",
    "\n",
    "Classifique a nota do aluno:\n",
    "\n",
    "- 9 até 10: \"Excelente\"\n",
    "\n",
    "- 7 até 8.9: \"Bom\"\n",
    "\n",
    "- 5 até 6.9: \"Regular\"\n",
    "\n",
    "- 0 até 4.9: \"Reprovado\"\n",
    "\n",
    "mostre para o aluno a classificação dele através de um print, exemplo print(\"Excelente\")."
   ]
  },
  {
   "cell_type": "code",
   "execution_count": 8,
   "id": "465c6812",
   "metadata": {},
   "outputs": [
    {
     "name": "stdout",
     "output_type": "stream",
     "text": [
      "excelente\n"
     ]
    }
   ],
   "source": [
    "nota = float(input(\"Informe a sua nota de (0 a 10)\"))\n",
    "if nota >= 9 and nota <=10:\n",
    "    print (\"excelente\")\n",
    "elif nota >=7 and nota <=8.9:\n",
    "    print (\"bom\")\n",
    "elif nota >=5 and nota <= 6.9:\n",
    "    print (\"regular\")\n",
    "else:\n",
    "    print (\"reprovado\")\n"
   ]
  },
  {
   "cell_type": "markdown",
   "id": "251b0fa7",
   "metadata": {},
   "source": [
    "Exercício 6 - Acesso ao Sistema 🔑\n",
    "\n",
    "Crie um login simples:\n",
    "\n",
    "- usuario_correto = \"admin\"\n",
    "\n",
    "- senha_correta = \"1234\"\n",
    "\n",
    "**Peça para o usuário digitar primeiro o login e depois a senha, caso login e senha estejam corretos programa deve mostrar \"Acesso permitido\" se não \"Acesso negado\"**\n"
   ]
  },
  {
   "cell_type": "code",
   "execution_count": 18,
   "id": "7fcf16db",
   "metadata": {},
   "outputs": [
    {
     "name": "stdout",
     "output_type": "stream",
     "text": [
      "acesso permitido admin\n"
     ]
    }
   ],
   "source": [
    "usuario_correto= \"admin\"\n",
    "senha_correta = 1234\n",
    "\n",
    "login = (input(\"qual o seu login/usuario :\"))\n",
    "senha = int (input(\"digite sua senha :\"))\n",
    "\n",
    "if login== usuario_correto and senha == senha_correta:\n",
    "    print(f\"acesso permitido {login}\")\n",
    "else: \n",
    "    print(\"acesso negado\")\n"
   ]
  },
  {
   "cell_type": "markdown",
   "id": "46c27406",
   "metadata": {},
   "source": [
    "Exercício 7 - Maior Número 📉\n",
    "\n",
    "Peça 3 números e mostre qual é o maior deles."
   ]
  },
  {
   "cell_type": "code",
   "execution_count": 19,
   "id": "916439ff",
   "metadata": {},
   "outputs": [
    {
     "name": "stdout",
     "output_type": "stream",
     "text": [
      " o maior numero e 3.0\n"
     ]
    }
   ],
   "source": [
    "primeiro_numero = float (input(\"digite o primeiro numero\"))\n",
    "segundo_numero = float (input(\"digite o segundo numero\"))\n",
    "terceiro_numero = float (input(\"digite o terceiro numero\"))\n",
    "\n",
    "if primeiro_numero> segundo_numero and primeiro_numero>terceiro_numero:\n",
    "    print(f\"o maior numero e o {primeiro_numero}\")\n",
    "elif segundo_numero> primeiro_numero and segundo_numero > terceiro_numero:\n",
    "    print(f\"o maior numero e o {segundo_numero}\")\n",
    "else:\n",
    "    print(f\" o maior numero e {terceiro_numero}\")"
   ]
  },
  {
   "cell_type": "markdown",
   "id": "984fe0fe",
   "metadata": {},
   "source": [
    "Exercício 8 - Dia da Semana\n",
    "Peça um número de 1 a 7 e mostre o dia da semana correspondente: 📅\n",
    "\n",
    "- 1: Domingo\n",
    "\n",
    "- 2: Segunda\n",
    "\n",
    "- ... até 7: Sábado"
   ]
  },
  {
   "cell_type": "code",
   "execution_count": 20,
   "id": "f34c6fbf",
   "metadata": {},
   "outputs": [
    {
     "name": "stdout",
     "output_type": "stream",
     "text": [
      "o dia escolhido e sabado\n"
     ]
    }
   ],
   "source": [
    "\n",
    "\n",
    "numero = int (input(\"escolha um numero de 1 ate 70\"))\n",
    "\n",
    "if numero == 1:\n",
    "    print (\"o dia escolhido e o domingo\")\n",
    "\n",
    "elif numero == 2:\n",
    "    print (\"o dia escolhido e segunda\")\n",
    "\n",
    "elif numero == 3:\n",
    "    print (\"o dia escolhido e terça\")\n",
    "\n",
    "elif numero == 4:\n",
    "    print (\"o dia escolhido e quarta\")\n",
    "    \n",
    "elif numero == 5:\n",
    "    print (\"o dia escolhido e quinta\")\n",
    "\n",
    "elif numero == 6:\n",
    "    print (\"o dia escolhido e sexta\")\n",
    "    \n",
    "else:\n",
    "    print(\"o dia escolhido e sabado\")\n",
    "\n",
    "\n",
    "\n",
    "\n"
   ]
  },
  {
   "cell_type": "markdown",
   "id": "f1f760b7",
   "metadata": {},
   "source": [
    "Exercício 9 - Calculadora Simples 📏📐\n",
    "\n",
    "- Faça uma calculadora que:\n",
    "\n",
    "- Pede dois números\n",
    "\n",
    "- Pede a operação (+, -, *, /)\n",
    "\n",
    "- Dependendo da operação mostre o resultado.\n",
    "\n"
   ]
  },
  {
   "cell_type": "code",
   "execution_count": 21,
   "id": "95c6ce03",
   "metadata": {},
   "outputs": [
    {
     "name": "stdout",
     "output_type": "stream",
     "text": [
      "6951\n"
     ]
    }
   ],
   "source": [
    "num1 = int(input(\"digite qualquer numero\"))\n",
    "num2 = int(input(\"digite qualquer numero\"))\n",
    "operacao = input(\"qaul sera a operacao? (+ ou / ou * ou - )\")\n",
    "if operacao==\"+\":\n",
    "    print(num1 + num2)\n",
    "\n",
    "elif operacao== \"/\":\n",
    "    print(num1 / num2)\n",
    "\n",
    "elif operacao ==\"*\":\n",
    "    print(num1 * num2)\n",
    "\n",
    "else:\n",
    "    print (num1 - num2)\n",
    "\n"
   ]
  },
  {
   "cell_type": "markdown",
   "id": "f39f6b73",
   "metadata": {},
   "source": [
    "Exercício 10 - Sistema de Multas 🚙🚘🧾\n",
    "\n",
    "\n",
    "- Velocidade máxima: 80 km/h 🚫\n",
    "\n",
    "- Até 80: \"Sem multa\"\n",
    "\n",
    "- 81-100: \"Multa leve\"\n",
    "\n",
    "- Acima de 100: \"Multa grave\""
   ]
  },
  {
   "cell_type": "code",
   "execution_count": 26,
   "id": "20fdc977",
   "metadata": {},
   "outputs": [
    {
     "name": "stdout",
     "output_type": "stream",
     "text": [
      "multa leve\n"
     ]
    }
   ],
   "source": [
    "velocidade = int (input(\"digite qual foi a velocidade\"))\n",
    "if velocidade == 80:\n",
    "    print (\"sem multa\")\n",
    "\n",
    "elif velocidade >= 81 and velocidade <=99:\n",
    "    print (\"multa leve\")\n",
    "\n",
    "elif velocidade >=100:\n",
    "\n",
    "    print (\"multa grave\")\n"
   ]
  }
 ],
 "metadata": {
  "kernelspec": {
   "display_name": "Python 3",
   "language": "python",
   "name": "python3"
  },
  "language_info": {
   "codemirror_mode": {
    "name": "ipython",
    "version": 3
   },
   "file_extension": ".py",
   "mimetype": "text/x-python",
   "name": "python",
   "nbconvert_exporter": "python",
   "pygments_lexer": "ipython3",
   "version": "3.13.2"
  }
 },
 "nbformat": 4,
 "nbformat_minor": 5
}
