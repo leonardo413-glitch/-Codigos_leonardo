{
 "cells": [
  {
   "cell_type": "markdown",
   "id": "790cdba8",
   "metadata": {},
   "source": [
    "### Aula de Python para Iniciantes - Mão na Massa 🐍\n",
    "\"Primeiros Passos em Python - Do Zero ao Primeiro Programa\""
   ]
  },
  {
   "cell_type": "markdown",
   "id": "30dc5e40",
   "metadata": {},
   "source": [
    "**O que é Python?**\n",
    "\n",
    "Linguagem de programação poderosa e fácil de aprender\n",
    "\n",
    "**Usada no YouTube, Instagram, NASA, Netflix**\n",
    "\n",
    "**Ótima para iniciantes*\n"
   ]
  },
  {
   "cell_type": "markdown",
   "id": "dbfc8226",
   "metadata": {},
   "source": [
    "Primeiro Contato:"
   ]
  },
  {
   "cell_type": "code",
   "execution_count": 1,
   "id": "fdfdbe54",
   "metadata": {},
   "outputs": [
    {
     "name": "stdout",
     "output_type": "stream",
     "text": [
      "Hello World!\n",
      "Sejam bem-vindos ao mundo do Python! 🎉\n"
     ]
    }
   ],
   "source": [
    "print(\"Hello World!\")\n",
    "print(\"Sejam bem-vindos ao mundo do Python! 🎉\")"
   ]
  },
  {
   "cell_type": "markdown",
   "id": "21988e6d",
   "metadata": {},
   "source": [
    "### 🖥️ Parte 2: Primeiros Comandos \n",
    "\n",
    "2.1 O Poder do print()"
   ]
  },
  {
   "cell_type": "code",
   "execution_count": 1,
   "id": "b6b868cf",
   "metadata": {},
   "outputs": [
    {
     "name": "stdout",
     "output_type": "stream",
     "text": [
      "Oi, eu sou o Python!\n",
      "Estou aprendendo a programar.\n",
      "Isso é muito legal!\n",
      "Meu nome é leo e tenho 15 anos\n",
      "Meu nome é João e tenho 17 anos\n"
     ]
    }
   ],
   "source": [
    "# Exemplo 1\n",
    "print(\"Oi, eu sou o Python!\")\n",
    "print(\"Estou aprendendo a programar.\")\n",
    "print(\"Isso é muito legal!\")\n",
    "\n",
    "# Exercício 1: Crie um print que mostre seu nome e idade\n",
    "\n",
    "print(\"Meu nome é leo e tenho 15 anos\")\n",
    "\n",
    "# (Exemplo de solução)\n",
    "print(\"Meu nome é João e tenho 17 anos\")"
   ]
  },
  {
   "cell_type": "markdown",
   "id": "af22de51",
   "metadata": {},
   "source": [
    "2.2 Variáveis Simples"
   ]
  },
  {
   "cell_type": "code",
   "execution_count": 4,
   "id": "28d3d22b",
   "metadata": {},
   "outputs": [
    {
     "name": "stdout",
     "output_type": "stream",
     "text": [
      "Maria\n",
      "17\n",
      "cachorro\n",
      "25/05/2010\n"
     ]
    }
   ],
   "source": [
    "# Exemplo 2\n",
    "nome = \"Maria\"\n",
    "idade = 17\n",
    "print(nome)\n",
    "print(idade)\n",
    "\n",
    "# Exercício 2: Crie variáveis para:\n",
    "\n",
    "# - Seu animal favorito\n",
    "animal_favorito = \"cachorro\"\n",
    "\n",
    "# - Seu ano de nascimento\n",
    "ano_nascimento = \"25/05/2010\"\n",
    "\n",
    "# E mostre elas com print\n",
    "print (animal_favorito)\n",
    "print (ano_nascimento)\n"
   ]
  },
  {
   "cell_type": "markdown",
   "id": "3657d1d7",
   "metadata": {},
   "source": [
    "2.3 Inputs - Conversando com o Usuário\n"
   ]
  },
  {
   "cell_type": "code",
   "execution_count": null,
   "id": "4f7dd464",
   "metadata": {},
   "outputs": [
    {
     "name": "stdout",
     "output_type": "stream",
     "text": [
      "Olá, pai de familia ! Bem-vindo ao Python!\n"
     ]
    }
   ],
   "source": [
    "# Exemplo 3\n",
    "nome = input(\"Qual é o seu nome? \")\n",
    "print(\"Olá,\", nome, \"! Bem-vindo ao Python!\")\n",
    "\n",
    "# Exercício 3: Faça um programa que pergunte:\n",
    "\n",
    "# - Qual seu jogo favorito\n",
    "\n",
    "# - Quantas horas você joga por semana\n",
    "\n",
    "# E depois mostre essas informações\n"
   ]
  },
  {
   "cell_type": "markdown",
   "id": "1f68646d",
   "metadata": {},
   "source": [
    "### 🎮 Parte 3: Mini-Projetos"
   ]
  },
  {
   "cell_type": "markdown",
   "id": "acfc8f35",
   "metadata": {},
   "source": [
    "Projeto 1: Gerador de Apelidos"
   ]
  },
  {
   "cell_type": "code",
   "execution_count": null,
   "id": "8447908d",
   "metadata": {},
   "outputs": [
    {
     "name": "stdout",
     "output_type": "stream",
     "text": [
      "--- Gerador de Apelidos Engraçados ---\n",
      "Seu apelido poderia ser: Super churrasco cao!\n"
     ]
    }
   ],
   "source": [
    "print(\"--- Gerador de Apelidos Engraçados ---\")\n",
    "comida = input(\"Qual sua comida favorita? \")\n",
    "animal = input(\"Qual seu animal preferido? \")\n",
    "print(\"Seu apelido poderia ser:\", \"Super \" + comida + \" \" + animal + \"!\")"
   ]
  },
  {
   "cell_type": "markdown",
   "id": "190b0e98",
   "metadata": {},
   "source": [
    "Projeto 2: Calculadora de Idade"
   ]
  },
  {
   "cell_type": "code",
   "execution_count": null,
   "id": "9b15af62",
   "metadata": {},
   "outputs": [
    {
     "name": "stdout",
     "output_type": "stream",
     "text": [
      "2010\n",
      "2025\n",
      "o ano que vocve nasceu foi2010, e estamos no ano de 2025, entao sua idade e 15anos.\n"
     ]
    }
   ],
   "source": [
    "ano_nascimento = int(input(\"qual foi o  ano que vc nasceu?\"))\n",
    "print (ano_nascimento) \n",
    "ano_atual = int(input(\"em que ano estamos?\"))\n",
    "print (ano_atual)\n",
    "\n",
    "calculo_idade = (ano_atual - ano_nascimento)\n",
    "print(f\"o ano que voce nasceu foi {ano_nascimento}, e estamos no ano de {ano_atual}, entao sua idade e {calculo_idade} anos.\")"
   ]
  },
  {
   "cell_type": "markdown",
   "id": "27b23eb0",
   "metadata": {},
   "source": [
    "Projeto 3: Quiz Simples"
   ]
  },
  {
   "cell_type": "code",
   "execution_count": 32,
   "id": "86da1065",
   "metadata": {},
   "outputs": [
    {
     "name": "stdout",
     "output_type": "stream",
     "text": [
      "--- Quiz de Programação ---\n",
      "Correto! 🎉\n"
     ]
    }
   ],
   "source": [
    "print(\"--- Quiz de Programação ---\")\n",
    "resposta = input(\"Python é uma linguagem de programação? (sim/não) \")\n",
    "if resposta == \"sim\":\n",
    "    print(\"Correto! 🎉\")\n",
    "else:\n",
    "    print(\"Ops, na verdade é sim! 😊\")"
   ]
  },
  {
   "cell_type": "markdown",
   "id": "703efc09",
   "metadata": {},
   "source": [
    "### 💡 Parte 4: Desafios "
   ]
  },
  {
   "cell_type": "markdown",
   "id": "8ee84d28",
   "metadata": {},
   "source": [
    "**Desafio 1: Crie um programa que pergunta:**\n",
    "\n",
    "**Dois números favoritos**\n",
    "\n",
    "**Seu signo**\n",
    "\n",
    "\n",
    "**E depois mostra: \"Seu código secreto é: num1 + signo + num2**"
   ]
  },
  {
   "cell_type": "code",
   "execution_count": 31,
   "id": "9949b081",
   "metadata": {},
   "outputs": [
    {
     "name": "stdout",
     "output_type": "stream",
     "text": [
      "ola usuario, este e um jogo sobre codigos secretos \n",
      "parabens! seu codigo secreto e 5gemeos25\n"
     ]
    }
   ],
   "source": [
    "print(\"ola usuario, este e um jogo sobre codigos secretos \")\n",
    "numero_favorito_1 = (input(\"escolha em numero (10 ou 20)\"))   \n",
    "numero_favorito_2 = (input(\"escolha em numero (25 ou 30)\")) \n",
    "signo = input (\"agora diga seu signo\") \n",
    "codigo = numero_favorito_1 + signo + numero_favorito_2\n",
    "print (f\"parabens! seu codigo secreto e {codigo}\")\n"
   ]
  },
  {
   "cell_type": "markdown",
   "id": "b30a44d2",
   "metadata": {},
   "source": [
    "**Desafio 2: Crie uma história maluca que combina 3 inputs do usuário (ex: nome, objeto e lugar)**"
   ]
  },
  {
   "cell_type": "code",
   "execution_count": null,
   "id": "8f8587bb",
   "metadata": {},
   "outputs": [
    {
     "name": "stdout",
     "output_type": "stream",
     "text": [
      "joaovirou um peixe e pegou um machado para cortar uma arvore no sitio\n"
     ]
    }
   ],
   "source": [
    "nome= input(\"qual o nome do personagem da historia\")\n",
    "objeto = input (\"qual objeto vc usara na historia\")\n",
    "lugar = input (\"escholha um local para a historia se passar\")\n",
    "print (f\"{nome} virou um peixe e pegou um {objeto} para cortar uma arvore no {lugar}\")"
   ]
  },
  {
   "cell_type": "markdown",
   "id": "dbd8c544",
   "metadata": {},
   "source": [
    "### 🌟 Encerramento:\n",
    "\n",
    "Revisão rápida do que aprenderam:\n",
    "\n",
    "**print() para mostrar informações**\n",
    "\n",
    "**input() para receber dados**\n",
    "\n",
    "**Variáveis para guardar valores**\n",
    "\n",
    "**Operações simples**"
   ]
  }
 ],
 "metadata": {
  "kernelspec": {
   "display_name": "Python 3",
   "language": "python",
   "name": "python3"
  },
  "language_info": {
   "codemirror_mode": {
    "name": "ipython",
    "version": 3
   },
   "file_extension": ".py",
   "mimetype": "text/x-python",
   "name": "python",
   "nbconvert_exporter": "python",
   "pygments_lexer": "ipython3",
   "version": "3.13.2"
  }
 },
 "nbformat": 4,
 "nbformat_minor": 5
}
