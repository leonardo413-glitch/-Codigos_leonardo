{
 "cells": [
  {
   "cell_type": "markdown",
   "id": "4c919d14",
   "metadata": {},
   "source": [
    "### CLT "
   ]
  },
  {
   "cell_type": "code",
   "execution_count": 1,
   "id": "991e8cfb",
   "metadata": {},
   "outputs": [
    {
     "name": "stdout",
     "output_type": "stream",
     "text": [
      "o que vai sobrar e 2870\n"
     ]
    }
   ],
   "source": [
    "salario = 5000\n",
    "gasolina = 200\n",
    "internet = 200\n",
    "alimentos = 1500\n",
    "agua = 100\n",
    "luz = 300 \n",
    "condominio = 570\n",
    "total_gastos = gasolina + internet + alimentos + agua + luz + condominio \n",
    "print (f\"o que vai sobrar e {total_gastos}\")\n",
    "\n",
    "\n",
    "\n",
    "\n",
    "\n",
    "\n",
    "\n",
    "\n",
    "\n",
    "\n",
    "\n"
   ]
  },
  {
   "cell_type": "code",
   "execution_count": 3,
   "id": "06ba6ddb",
   "metadata": {},
   "outputs": [
    {
     "name": "stdout",
     "output_type": "stream",
     "text": [
      "o que vai sobrar e 3930\n"
     ]
    }
   ],
   "source": [
    "salario = 15000\n",
    "\n",
    "combustivel = 1800\n",
    "alimento = 1000\n",
    "luz = 300\n",
    "agua = 300\n",
    "internet = 400\n",
    "gas = 130\n",
    "total_gastos = combustivel + alimento + luz + agua + internet + gas \n",
    "print (f\"o que vai sobrar e {total_gastos}\")\n"
   ]
  }
 ],
 "metadata": {
  "kernelspec": {
   "display_name": "Python 3",
   "language": "python",
   "name": "python3"
  },
  "language_info": {
   "codemirror_mode": {
    "name": "ipython",
    "version": 3
   },
   "file_extension": ".py",
   "mimetype": "text/x-python",
   "name": "python",
   "nbconvert_exporter": "python",
   "pygments_lexer": "ipython3",
   "version": "3.13.2"
  }
 },
 "nbformat": 4,
 "nbformat_minor": 5
}
